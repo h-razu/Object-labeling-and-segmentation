{
 "cells": [
  {
   "cell_type": "code",
   "execution_count": 1,
   "metadata": {},
   "outputs": [],
   "source": [
    "import os\n",
    "import json\n",
    "import numpy\n",
    "import cv2\n",
    "from ultralytics import YOLO\n",
    "import numpy as np\n",
    "import pandas as pd\n",
    "import matplotlib.pyplot as plt\n",
    "from pathlib import Path\n",
    "from tqdm.auto import tqdm\n",
    "import shutil\n",
    "from PIL import Image"
   ]
  },
  {
   "cell_type": "code",
   "execution_count": null,
   "metadata": {},
   "outputs": [],
   "source": [
    "from dataLoader import DataLoader\n",
    "\n",
    "HOME = os.getcwd()\n",
    "\n",
    "\n",
    "\"\"\"\n",
    "PREPROCESSING DATA FOR YOLOv8\n",
    "\"\"\"\n",
    "data_base_path = os.path.join('Data/KITTI')\n",
    "\n",
    "train_image_path = os.path.join(data_base_path, 'images','train')\n",
    "train_image_label_json = os.path.join(data_base_path,'labels','train')\n",
    "\n",
    "object_categories =[\"other vehicle\", \"pedestrian\", \"traffic light\", \"traffic sign\", \n",
    "                \"truck\", \"train\", \"other person\", \"bus\", \"car\", \"rider\", \"motorcycle\", \n",
    "                \"bicycle\", \"trailer\"\n",
    "                ]\n",
    "\n",
    "\n",
    "# data_loader = DataLoader(train_image_label_json, train_image_path,data_base_path, object_categories )\n",
    "# data_loader.make_annotaion()"
   ]
  }
 ],
 "metadata": {
  "kernelspec": {
   "display_name": "projectENV",
   "language": "python",
   "name": "python3"
  },
  "language_info": {
   "codemirror_mode": {
    "name": "ipython",
    "version": 3
   },
   "file_extension": ".py",
   "mimetype": "text/x-python",
   "name": "python",
   "nbconvert_exporter": "python",
   "pygments_lexer": "ipython3",
   "version": "3.8.20"
  }
 },
 "nbformat": 4,
 "nbformat_minor": 2
}
