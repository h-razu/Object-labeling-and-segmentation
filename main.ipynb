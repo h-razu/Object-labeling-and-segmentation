{
 "cells": [
  {
   "cell_type": "code",
   "execution_count": 7,
   "metadata": {},
   "outputs": [],
   "source": [
    "import os\n",
    "import cv2\n",
    "from ultralytics import YOLO\n",
    "from tqdm.auto import tqdm\n",
    "import shutil\n",
    "from PIL import Image\n",
    "from pathlib import Path\n",
    "import prettyprinter as pp\n",
    "\n",
    "HOME = os.getcwd()"
   ]
  },
  {
   "cell_type": "markdown",
   "metadata": {},
   "source": [
    "<h4>Make Validation Dataset from Train Data</h4>"
   ]
  },
  {
   "cell_type": "code",
   "execution_count": null,
   "metadata": {},
   "outputs": [
    {
     "name": "stdout",
     "output_type": "stream",
     "text": [
      "Spliting the train dataset into train and val set\n",
      "Train data size: 5984\n",
      "Val data size: 1497\n",
      "'Copying train image to processed data directory'\n"
     ]
    },
    {
     "data": {
      "application/vnd.jupyter.widget-view+json": {
       "model_id": "d49245ef49d54632a5b5e56d4f0b2b32",
       "version_major": 2,
       "version_minor": 0
      },
      "text/plain": [
       "  0%|          | 0/5984 [00:00<?, ?it/s]"
      ]
     },
     "metadata": {},
     "output_type": "display_data"
    },
    {
     "name": "stdout",
     "output_type": "stream",
     "text": [
      "'Copying validate image to processed data directory'\n"
     ]
    },
    {
     "data": {
      "application/vnd.jupyter.widget-view+json": {
       "model_id": "490049c542744e7cb270c805d022ccd7",
       "version_major": 2,
       "version_minor": 0
      },
      "text/plain": [
       "  0%|          | 0/1497 [00:00<?, ?it/s]"
      ]
     },
     "metadata": {},
     "output_type": "display_data"
    }
   ],
   "source": [
    "from dataLoader import DataLoader\n",
    "\n",
    "data_base_path = Path(\"dataset/KITTI\")\n",
    "\n",
    "train_image_path = os.path.join(data_base_path, 'images','train')\n",
    "train_image_label = os.path.join(data_base_path,'labels','train')\n",
    "categories = Path(\"dataset/object_classes.json\")\n",
    "\n",
    "data_loader = DataLoader(train_image_label, train_image_path, categories)\n",
    "data_loader.make_validation_set()\n",
    "\n",
    "#create a .yaml file\n",
    "data_loader.make_yaml_file()\n"
   ]
  },
  {
   "cell_type": "code",
   "execution_count": null,
   "metadata": {},
   "outputs": [
    {
     "name": "stdout",
     "output_type": "stream",
     "text": [
      "{\n",
      "    'names': [\n",
      "        'Car',\n",
      "        'Pedestrian',\n",
      "        'Van',\n",
      "        'Cyclist',\n",
      "        'Truck',\n",
      "        'Misc',\n",
      "        'Tram',\n",
      "        'Person_sitting'\n",
      "    ],\n",
      "    'nc': 8,\n",
      "    'train':\n",
      "        'D:\\\\Cardiff Met\\\\Advance AI and Robotics\\\\Object Labeling and '\n",
      "        'Segmentation\\\\dataset\\\\modified\\\\train',\n",
      "    'val':\n",
      "        'D:\\\\Cardiff Met\\\\Advance AI and Robotics\\\\Object Labeling and '\n",
      "        'Segmentation\\\\dataset\\\\modified\\\\valid'\n",
      "}\n"
     ]
    }
   ],
   "source": [
    "import yaml\n",
    "\n",
    "file_path = \"dataset/data.yaml\"\n",
    "\n",
    "with open(file_path, \"r\") as file:\n",
    "    data = yaml.safe_load(file)\n",
    "\n",
    "pp.pprint(data)"
   ]
  }
 ],
 "metadata": {
  "kernelspec": {
   "display_name": "projectENV",
   "language": "python",
   "name": "python3"
  },
  "language_info": {
   "codemirror_mode": {
    "name": "ipython",
    "version": 3
   },
   "file_extension": ".py",
   "mimetype": "text/x-python",
   "name": "python",
   "nbconvert_exporter": "python",
   "pygments_lexer": "ipython3",
   "version": "3.8.20"
  }
 },
 "nbformat": 4,
 "nbformat_minor": 2
}
